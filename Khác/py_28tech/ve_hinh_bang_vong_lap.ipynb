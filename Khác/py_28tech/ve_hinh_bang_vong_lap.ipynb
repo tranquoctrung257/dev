{
 "cells": [
  {
   "cell_type": "code",
   "execution_count": 9,
   "metadata": {},
   "outputs": [
    {
     "name": "stdout",
     "output_type": "stream",
     "text": [
      "* * * * * \n",
      "* * * * * \n",
      "* * * * * \n",
      "* * * * * \n",
      "* * * * * \n"
     ]
    }
   ],
   "source": [
    "n = 5\n",
    "# * * * * * \n",
    "# * * * * * \n",
    "# * * * * * \n",
    "# * * * * * \n",
    "# * * * * * \n",
    "\n",
    "for i in range(n):\n",
    "    for j in range(n):\n",
    "        print(\"*\",end=\" \")\n",
    "    print()\n",
    "\n"
   ]
  },
  {
   "cell_type": "code",
   "execution_count": 3,
   "metadata": {},
   "outputs": [
    {
     "name": "stdout",
     "output_type": "stream",
     "text": [
      "* * * * * \n",
      "*       * \n",
      "*       * \n",
      "*       * \n",
      "* * * * * \n"
     ]
    }
   ],
   "source": [
    "# * * * * *  \n",
    "# *       *  \n",
    "# *       *  \n",
    "# *       *  \n",
    "# * * * * *  \n",
    "n = 5\n",
    "for i in range(n):\n",
    "    for j in range(n):\n",
    "        if i == 0 or i == n-1 or j == 0 or j == n-1:\n",
    "            print(\"*\",end=\" \")\n",
    "        else:print(\" \",end=\" \")\n",
    "    print()\n"
   ]
  },
  {
   "cell_type": "code",
   "execution_count": 4,
   "metadata": {},
   "outputs": [
    {
     "name": "stdout",
     "output_type": "stream",
     "text": [
      "* * * * * \n",
      "* # # # * \n",
      "* # # # * \n",
      "* # # # * \n",
      "* * * * * \n"
     ]
    }
   ],
   "source": [
    "# * * * * *  \n",
    "# * # # # *  \n",
    "# * # # # *  \n",
    "# * # # # *  \n",
    "# * * * * *  \n",
    "n = 5\n",
    "for i in range(n):\n",
    "    for j in range(n):\n",
    "        if i == 0 or i == n-1 or j == 0 or j == n-1:\n",
    "            print(\"*\",end=\" \")\n",
    "        else:print(\"#\",end=\" \")\n",
    "    print()\n"
   ]
  },
  {
   "cell_type": "code",
   "execution_count": 9,
   "metadata": {},
   "outputs": [
    {
     "name": "stdout",
     "output_type": "stream",
     "text": [
      "1 1 1 1 1 \n",
      "2       2 \n",
      "3       3 \n",
      "4       4 \n",
      "5 5 5 5 5 \n"
     ]
    }
   ],
   "source": [
    "# 1 1 1 1 1  \n",
    "# 2       2  \n",
    "# 3       3  \n",
    "# 4       4  \n",
    "# 5 5 5 5 5\n",
    "n = 5\n",
    "for i in range(n):\n",
    "    for j in range(n):\n",
    "        if i == 0 or i == n-1 or j == 0 or j == n-1:\n",
    "            print(i+1,end=\" \")\n",
    "        else:print(\" \",end=\" \")\n",
    "    print()"
   ]
  },
  {
   "cell_type": "code",
   "execution_count": 12,
   "metadata": {},
   "outputs": [
    {
     "name": "stdout",
     "output_type": "stream",
     "text": [
      "* \n",
      "* * \n",
      "* * * \n",
      "* * * * \n",
      "* * * * * \n"
     ]
    }
   ],
   "source": [
    "# *\n",
    "# **\n",
    "# ***\n",
    "# ****\n",
    "# *****\n",
    "n = 5\n",
    "for i in range(1,n+1):\n",
    "    for j in range(i):\n",
    "        print(\"*\",end=\" \")\n",
    "    print()\n",
    "\n"
   ]
  },
  {
   "cell_type": "code",
   "execution_count": 15,
   "metadata": {},
   "outputs": [
    {
     "name": "stdout",
     "output_type": "stream",
     "text": [
      "* * * * * \n",
      "* * * * \n",
      "* * * \n",
      "* * \n",
      "* \n"
     ]
    }
   ],
   "source": [
    "# *****\n",
    "# ****\n",
    "# ***\n",
    "# **\n",
    "# *\n",
    "\n",
    "for i in range(5,0,-1):\n",
    "    for j in range(i):\n",
    "        print(\"*\",end=\" \")\n",
    "    print()"
   ]
  },
  {
   "cell_type": "code",
   "execution_count": 24,
   "metadata": {},
   "outputs": [
    {
     "name": "stdout",
     "output_type": "stream",
     "text": [
      "        * \n",
      "      * * \n",
      "    * * * \n",
      "  * * * * \n",
      "* * * * * \n"
     ]
    }
   ],
   "source": [
    "#         * \n",
    "#       * * \n",
    "#     * * * \n",
    "#   * * * * \n",
    "# * * * * * \n",
    "n = 5\n",
    "for i in range(1,n+1):\n",
    "    for j in range(1,n+1):\n",
    "        if j <= n-i:\n",
    "            print(\" \",end =\" \")\n",
    "        else:\n",
    "            print(\"*\",end= \" \")\n",
    "    print()"
   ]
  },
  {
   "cell_type": "code",
   "execution_count": 29,
   "metadata": {},
   "outputs": [
    {
     "name": "stdout",
     "output_type": "stream",
     "text": [
      "* * * * * \n",
      "  * * * * \n",
      "    * * * \n",
      "      * * \n",
      "        * \n"
     ]
    }
   ],
   "source": [
    "# * * * * * \n",
    "#   * * * * \n",
    "#     * * * \n",
    "#       * * \n",
    "#         * \n",
    "n = 5\n",
    "for i in range(1,n+1):\n",
    "    for j in range(1,n+1):\n",
    "        if j < i:\n",
    "            print(\" \",end =\" \")\n",
    "        else:\n",
    "            print(\"*\",end= \" \")\n",
    "    print()\n"
   ]
  },
  {
   "cell_type": "code",
   "execution_count": 57,
   "metadata": {},
   "outputs": [
    {
     "name": "stdout",
     "output_type": "stream",
     "text": [
      "*         \n",
      "* *       \n",
      "*   *     \n",
      "*     *   \n",
      "* * * * * \n"
     ]
    }
   ],
   "source": [
    "# * \n",
    "# * * \n",
    "# *   * \n",
    "# *     * \n",
    "# * * * * * \n",
    "n = 5\n",
    "\n",
    "for i in range(1,n+1):\n",
    "    for j in range(1,n+1):\n",
    "        if j == 1 or i == n or j == i:\n",
    "            print(\"*\",end = \" \")\n",
    "        else:print(\" \",end = \" \")\n",
    "    print()\n"
   ]
  },
  {
   "cell_type": "code",
   "execution_count": 59,
   "metadata": {},
   "outputs": [
    {
     "name": "stdout",
     "output_type": "stream",
     "text": [
      "1 2 3 4 5  \n",
      "2 4 6 8 10  \n",
      "3 6 9 12 15  \n",
      "4 8 12 16 20  \n",
      "5 10 15 20 25  \n"
     ]
    }
   ],
   "source": [
    "# 1 2 3 4 5 \n",
    "# 6 7 8 9 10 \n",
    "# 11 12 13 14 15 \n",
    "# 16 17 18 19 20 \n",
    "# 21 22 23 24 25 \n",
    "\n",
    "n = 5\n",
    "for i in range(1,n+1):\n",
    "    for j in range(1,n+1):\n",
    "        print(j*i,end = \" \")\n",
    "    print(\" \")"
   ]
  },
  {
   "cell_type": "code",
   "execution_count": 2,
   "metadata": {},
   "outputs": [
    {
     "name": "stdout",
     "output_type": "stream",
     "text": [
      "1 2 3 4 5 \n",
      "2 3 4 5 6 \n",
      "3 4 5 6 7 \n",
      "4 5 6 7 8 \n",
      "5 6 7 8 9 \n"
     ]
    }
   ],
   "source": [
    "# 1 2 3 4 5 \n",
    "# 2 3 4 5 6 \n",
    "# 3 4 5 6 7 \n",
    "# 4 5 6 7 8 \n",
    "# 5 6 7 8 9 \n",
    "n = 5\n",
    "for i in range(1,n+1):\n",
    "    temp = i\n",
    "    for j in range(1,n+1):\n",
    "        print(temp,end=\" \")\n",
    "        temp +=1\n",
    "    print()\n",
    "    "
   ]
  },
  {
   "cell_type": "code",
   "execution_count": 66,
   "metadata": {},
   "outputs": [
    {
     "name": "stdout",
     "output_type": "stream",
     "text": [
      "~ ~ ~ ~ 1 \n",
      "~ ~ ~ 2 2 \n",
      "~ ~ 3 3 3 \n",
      "~ 4 4 4 4 \n",
      "5 5 5 5 5 \n"
     ]
    }
   ],
   "source": [
    "# ~ ~ ~ ~ 1 \n",
    "# ~ ~ ~ 2 2 \n",
    "# ~ ~ 3 3 3 \n",
    "# ~ 4 4 4 4 \n",
    "# 5 5 5 5 5 \n",
    "n = 5\n",
    "for i in range(1,n+1):\n",
    "    for j in range(1,n+1):\n",
    "        if j <= n -i:\n",
    "            print(\"~\",end=\" \")\n",
    "        else:print(i,end=\" \")\n",
    "    print()"
   ]
  },
  {
   "cell_type": "code",
   "execution_count": 3,
   "metadata": {},
   "outputs": [
    {
     "name": "stdout",
     "output_type": "stream",
     "text": [
      "1 \n",
      "2 6 \n",
      "3 7 10 \n",
      "4 8 11 13 \n",
      "5 9 12 14 15 \n"
     ]
    }
   ],
   "source": [
    "# 1 \n",
    "# 2 6 \n",
    "# 3 7 10 \n",
    "# 4 8 11 13 \n",
    "# 5 9 12 14 15 \n",
    "for i in range(1,n+1):\n",
    "    ktao = i\n",
    "    kc = n - 1\n",
    "    for j in range(i):\n",
    "        print(ktao,end=\" \")\n",
    "        ktao +=kc\n",
    "        kc-=1\n",
    "    print()\n"
   ]
  },
  {
   "cell_type": "code",
   "execution_count": null,
   "metadata": {},
   "outputs": [],
   "source": []
  }
 ],
 "metadata": {
  "kernelspec": {
   "display_name": "Python 3",
   "language": "python",
   "name": "python3"
  },
  "language_info": {
   "codemirror_mode": {
    "name": "ipython",
    "version": 3
   },
   "file_extension": ".py",
   "mimetype": "text/x-python",
   "name": "python",
   "nbconvert_exporter": "python",
   "pygments_lexer": "ipython3",
   "version": "3.10.9"
  }
 },
 "nbformat": 4,
 "nbformat_minor": 2
}
