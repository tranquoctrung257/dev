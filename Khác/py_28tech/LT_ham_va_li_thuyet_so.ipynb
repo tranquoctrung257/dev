{
 "cells": [
  {
   "cell_type": "code",
   "execution_count": 5,
   "metadata": {},
   "outputs": [
    {
     "name": "stdout",
     "output_type": "stream",
     "text": [
      "56\n"
     ]
    }
   ],
   "source": [
    "import math\n",
    "# tính tổng ước, số hoàn hảo, tìm ước \n",
    "def uoc(n):\n",
    "    t = 0\n",
    "    for i in range(1,math.isqrt(n)+1):\n",
    "        if n % i == 0:\n",
    "            t +=i\n",
    "            if i != n//i:\n",
    "                t += n//i\n",
    "    print(t)\n",
    "uoc(28)\n"
   ]
  },
  {
   "cell_type": "code",
   "execution_count": 12,
   "metadata": {},
   "outputs": [],
   "source": [
    "# số chinh phương, liệt kê số chính phương,...\n",
    "# số chính phương có cả 0 và 1\n",
    "def cp(n):\n",
    "    can = math.isqrt(n)\n",
    "    if can * can == n:\n",
    "        return True\n",
    "    return False\n",
    "# print(cp(15)) \n",
    "\n",
    "def liet_ke_cp(n):\n",
    "    for i in range(0,math.isqrt(n)+1):\n",
    "        print(i*i)\n",
    "\n",
    "# liet_ke_cp(100)"
   ]
  },
  {
   "cell_type": "code",
   "execution_count": 14,
   "metadata": {},
   "outputs": [
    {
     "name": "stdout",
     "output_type": "stream",
     "text": [
      "3025\n"
     ]
    }
   ],
   "source": [
    "# tong lap phuong \n",
    "def lp(n):\n",
    "    t = 0\n",
    "    for i in range(1,n+1):\n",
    "        t += (i**3)\n",
    "    print(t)\n",
    "lp(10)"
   ]
  },
  {
   "cell_type": "code",
   "execution_count": 15,
   "metadata": {},
   "outputs": [
    {
     "name": "stdout",
     "output_type": "stream",
     "text": [
      "3628800\n"
     ]
    }
   ],
   "source": [
    "# giai thừa\n",
    "def gt(n):\n",
    "    t = 1\n",
    "    for i in range(1,n+1):\n",
    "        t*=i\n",
    "    print(t)\n",
    "gt(10)"
   ]
  },
  {
   "cell_type": "code",
   "execution_count": 18,
   "metadata": {},
   "outputs": [
    {
     "name": "stdout",
     "output_type": "stream",
     "text": [
      "16\n"
     ]
    }
   ],
   "source": [
    "# tính tổng chữ số của n\n",
    "def t(n):\n",
    "    sum = 0\n",
    "    while n!=0:\n",
    "        sum+=n%10\n",
    "        n//=10\n",
    "    print(sum)\n",
    "t(12345)"
   ]
  },
  {
   "cell_type": "code",
   "execution_count": 20,
   "metadata": {},
   "outputs": [
    {
     "name": "stdout",
     "output_type": "stream",
     "text": [
      "4\n"
     ]
    }
   ],
   "source": [
    "# tính chữ số nguyên tố của 1 số\n",
    "def chu_so_nt(n):\n",
    "    sum = 0\n",
    "    while n!=0:\n",
    "        temp = n%10\n",
    "        if temp == 2 or temp == 3 or temp ==5 or temp == 7:\n",
    "            sum+=1\n",
    "        n//=10\n",
    "    print(sum)\n",
    "chu_so_nt(123456789)"
   ]
  },
  {
   "cell_type": "code",
   "execution_count": 22,
   "metadata": {},
   "outputs": [
    {
     "name": "stdout",
     "output_type": "stream",
     "text": [
      "5\n"
     ]
    }
   ],
   "source": [
    "# tính tổng chẵn lẻ 1 + 2 - 3 + 4 - 5 + ...+(-1)^n*n\n",
    "def tcl(n):\n",
    "    tong = 0\n",
    "    for i in range(1,n+1):\n",
    "        if i%2 == 0:\n",
    "            tong +=i\n",
    "        else:\n",
    "            tong -=i\n",
    "    print(tong)\n",
    "tcl(10)"
   ]
  },
  {
   "cell_type": "code",
   "execution_count": 10,
   "metadata": {},
   "outputs": [
    {
     "name": "stdout",
     "output_type": "stream",
     "text": [
      "8\n"
     ]
    }
   ],
   "source": [
    "# bài 27\n",
    "n = 278\n",
    "\n",
    "while n >= 10:\n",
    "    tong = 0\n",
    "    while n != 0:\n",
    "        tong +=n%10\n",
    "        n//=10\n",
    "    n = tong \n",
    "print(n)"
   ]
  },
  {
   "cell_type": "code",
   "execution_count": 16,
   "metadata": {},
   "outputs": [
    {
     "name": "stdout",
     "output_type": "stream",
     "text": [
      "153\n"
     ]
    }
   ],
   "source": [
    "# tong gt\n",
    "n = 5\n",
    "def gt(n):\n",
    "    tong = 1\n",
    "    for i in range(1,n+1):\n",
    "        tong *=i\n",
    "    return tong\n",
    "if __name__ == \"__main__\":\n",
    "    t = 0\n",
    "    for i in range(1,n+1):\n",
    "        t+=gt(i)\n",
    "    print(t)\n",
    "        "
   ]
  },
  {
   "cell_type": "code",
   "execution_count": 17,
   "metadata": {},
   "outputs": [
    {
     "name": "stdout",
     "output_type": "stream",
     "text": [
      "4848\n"
     ]
    }
   ],
   "source": [
    "# tổng chẵn\n",
    "n = int(input())\n",
    "a = list(map(int,input().split()))\n",
    "print(sum(a))"
   ]
  },
  {
   "cell_type": "code",
   "execution_count": 18,
   "metadata": {},
   "outputs": [
    {
     "name": "stdout",
     "output_type": "stream",
     "text": [
      "ODD\n",
      "ODD\n",
      "EVEN\n",
      "ODD\n",
      "ODD\n",
      "ODD\n",
      "EVEN\n",
      "ODD\n",
      "EVEN\n"
     ]
    }
   ],
   "source": [
    "# kiểm tra số chẵn hay lẻ nhiều test case\n",
    "n = int(input())\n",
    "for i in range(n):\n",
    "    n = int(input())\n",
    "    if n % 2 == 0:\n",
    "        print(\"EVEN\")\n",
    "    else:\n",
    "        print(\"ODD\")"
   ]
  },
  {
   "cell_type": "code",
   "execution_count": 19,
   "metadata": {},
   "outputs": [
    {
     "name": "stdout",
     "output_type": "stream",
     "text": [
      "987654321\n"
     ]
    }
   ],
   "source": [
    "# số đối xứng, số thuận nghịch\n",
    "n = 123456789\n",
    "rev = 0\n",
    "while n != 0:\n",
    "    rev = rev * 10 + n% 10\n",
    "    n//= 10\n",
    "print(rev)"
   ]
  },
  {
   "cell_type": "code",
   "execution_count": 24,
   "metadata": {},
   "outputs": [
    {
     "name": "stdout",
     "output_type": "stream",
     "text": [
      "2 2 3 5 "
     ]
    }
   ],
   "source": [
    "# phân tích thừa số nguyên tố \n",
    "import math\n",
    "def pt(n):\n",
    "    for i in range(2,math.isqrt(n)+1):\n",
    "        if n % i == 0:\n",
    "            while n %i == 0:\n",
    "                print(i, end=\" \")\n",
    "                n//=i\n",
    "    # n là số nguyên tố \n",
    "    if n > 1:\n",
    "        print(n)\n",
    "pt(60)\n"
   ]
  },
  {
   "cell_type": "code",
   "execution_count": 21,
   "metadata": {},
   "outputs": [],
   "source": [
    "# số nguyên tố\n",
    "def nt(n):\n",
    "    if n < 2:return False\n",
    "    for i in range(2,math.isqrt(n)+1):\n",
    "        if n % i == 0:\n",
    "            return False\n",
    "    return True\n",
    "\n"
   ]
  },
  {
   "cell_type": "code",
   "execution_count": 5,
   "metadata": {},
   "outputs": [
    {
     "name": "stdout",
     "output_type": "stream",
     "text": [
      "56\n"
     ]
    }
   ],
   "source": [
    "# dem ươc tối ưu\n",
    "import math\n",
    "def uoc(n):\n",
    "    dem = 0\n",
    "    for i in range(1,math.isqrt(n)+1):\n",
    "        if n % i == 0:\n",
    "            dem+=i\n",
    "            if i != n//i:\n",
    "                dem+=n//i\n",
    "    return dem\n",
    "print(uoc(28))\n"
   ]
  },
  {
   "cell_type": "code",
   "execution_count": 30,
   "metadata": {},
   "outputs": [
    {
     "name": "stdout",
     "output_type": "stream",
     "text": [
      "0 1 1 1 2 3 5 8 13 21 34 "
     ]
    }
   ],
   "source": [
    "# số fibo\n",
    "def fibo(n):\n",
    "    print(0,1,end=\" \")\n",
    "    fn1,fn2 = 0,1\n",
    "    for i in range(1,n):\n",
    "        fn = fn1+fn2\n",
    "        print(fn,end = \" \")\n",
    "        fn1,fn2 = fn,fn1\n",
    "fibo(10)"
   ]
  },
  {
   "cell_type": "code",
   "execution_count": 4,
   "metadata": {},
   "outputs": [
    {
     "name": "stdout",
     "output_type": "stream",
     "text": [
      "3\n",
      "90.0\n"
     ]
    }
   ],
   "source": [
    "\n",
    "# ước chung lớn nhất bội chung nhỏ nhất\n",
    "# ucln,bcnn\n",
    "def gcd(a,b):\n",
    "    while b !=0:\n",
    "        # đổi a b ==> b a%b\n",
    "        a,b = b,a%b\n",
    "    return a\n",
    "def lcm(a,b):\n",
    "    return a * b / gcd(a,b)\n",
    "print(gcd(18,15))\n",
    "print(lcm(18,15))"
   ]
  },
  {
   "cell_type": "code",
   "execution_count": 12,
   "metadata": {},
   "outputs": [
    {
     "name": "stdout",
     "output_type": "stream",
     "text": [
      "18 15\n"
     ]
    }
   ],
   "source": []
  },
  {
   "cell_type": "code",
   "execution_count": null,
   "metadata": {},
   "outputs": [],
   "source": []
  }
 ],
 "metadata": {
  "kernelspec": {
   "display_name": "Python 3",
   "language": "python",
   "name": "python3"
  },
  "language_info": {
   "codemirror_mode": {
    "name": "ipython",
    "version": 3
   },
   "file_extension": ".py",
   "mimetype": "text/x-python",
   "name": "python",
   "nbconvert_exporter": "python",
   "pygments_lexer": "ipython3",
   "version": "3.10.9"
  }
 },
 "nbformat": 4,
 "nbformat_minor": 2
}
