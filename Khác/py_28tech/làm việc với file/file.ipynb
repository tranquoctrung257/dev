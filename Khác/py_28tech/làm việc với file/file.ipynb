{
 "cells": [
  {
   "cell_type": "code",
   "execution_count": 1,
   "metadata": {},
   "outputs": [
    {
     "data": {
      "text/plain": [
       "'Mode\\t|Chú thích\\nr\\t    |Chế độ chỉ được phép đọc.\\nrb\\t    |Chế độ chỉ được phép đọc nhưng cho định dạn nhị phân.\\nr+\\t    |Chế độ này cho phép đọc và ghi file, con trỏ nó sẽ nằm ở đầu file.\\nrb+\\t    |Chế độ này cho phép đọc và ghi file ở dạng nhị phân, con trỏ sẽ nằm ở đầu file.\\nw\\t    |Chế độ ghi file, nếu như file không tồn tại thì nó sẽ tạo mới file và ghi nội dung, còn nếu như file đã tồn tại nó sẽ ghi đè nội dung lên file cũ.\\nwb\\t    |Tương tự chế độ w nhưng đối với nhị phân.\\nw+\\t    |Mở file trong chế độ đọc và ghi. còn lại như w.\\nwb+\\t    |Giống chế độ w+ nhưng đối với nhị phân\\na\\t    |Mở file trong chế độ ghi tiếp. Nếu file đã tồn tại rồi thì nó sẽ ghi tiếp nội dung, và nếu như file chưa tồn tại thì nó sẽ tạo một file mới và ghi nội dung vào đó.\\nab\\t    |Tương tự a nhưng đối với nhị phân.\\na+\\t    |Mở file trong chế độ đọc và ghi tiếp nội dung, còn lại cơ chế giống chế độ a.\\nab+\\t    |Tương tự chế độ a+ nhưng đối với nhị phân.'"
      ]
     },
     "execution_count": 1,
     "metadata": {},
     "output_type": "execute_result"
    }
   ],
   "source": [
    "# open(filePath, mode, buffer)\n",
    "# file path là đường dẫn đến file \n",
    "# mode là thông số thiết lập file được cấp quyền là gì mặc định là r\n",
    "# buffer là thông số đệm cho file mặc định thì nó sẽ là 0.\n",
    "\"\"\"Mode\t|Chú thích\n",
    "r\t    |Chế độ chỉ được phép đọc.\n",
    "rb\t    |Chế độ chỉ được phép đọc nhưng cho định dạn nhị phân.\n",
    "r+\t    |Chế độ này cho phép đọc và ghi file, con trỏ nó sẽ nằm ở đầu file.\n",
    "rb+\t    |Chế độ này cho phép đọc và ghi file ở dạng nhị phân, con trỏ sẽ nằm ở đầu file.\n",
    "w\t    |Chế độ ghi file, nếu như file không tồn tại thì nó sẽ tạo mới file và ghi nội dung, còn nếu như file đã tồn tại nó sẽ ghi đè nội dung lên file cũ.\n",
    "wb\t    |Tương tự chế độ w nhưng đối với nhị phân.\n",
    "w+\t    |Mở file trong chế độ đọc và ghi. còn lại như w.\n",
    "wb+\t    |Giống chế độ w+ nhưng đối với nhị phân\n",
    "a\t    |Mở file trong chế độ ghi tiếp. Nếu file đã tồn tại rồi thì nó sẽ ghi tiếp nội dung, và nếu như file chưa tồn tại thì nó sẽ tạo một file mới và ghi nội dung vào đó.\n",
    "ab\t    |Tương tự a nhưng đối với nhị phân.\n",
    "a+\t    |Mở file trong chế độ đọc và ghi tiếp nội dung, còn lại cơ chế giống chế độ a.\n",
    "ab+\t    |Tương tự chế độ a+ nhưng đối với nhị phân.\"\"\""
   ]
  },
  {
   "cell_type": "code",
   "execution_count": 4,
   "metadata": {},
   "outputs": [
    {
     "name": "stdout",
     "output_type": "stream",
     "text": [
      "xin chào\n"
     ]
    }
   ],
   "source": [
    "# ví dụ\n",
    "fi = open(\"1.in\",\"r\",encoding=\"utf8\")\n",
    "print(fi.read())"
   ]
  },
  {
   "cell_type": "code",
   "execution_count": 11,
   "metadata": {},
   "outputs": [
    {
     "name": "stdout",
     "output_type": "stream",
     "text": [
      "1.out\n",
      "w\n",
      "utf8\n"
     ]
    },
    {
     "data": {
      "text/plain": [
       "15"
      ]
     },
     "execution_count": 11,
     "metadata": {},
     "output_type": "execute_result"
    }
   ],
   "source": [
    "# để ghi file dùng hàm write\n",
    "data = \"xin chào python\"\n",
    "f = open(\"1.out\",\"w\",encoding=\"utf8\")\n",
    "print(f.name)\n",
    "print(f.mode)\n",
    "print(f.encoding)\n",
    "f.write(data)"
   ]
  },
  {
   "cell_type": "code",
   "execution_count": 27,
   "metadata": {},
   "outputs": [
    {
     "name": "stdout",
     "output_type": "stream",
     "text": [
      "xin chào\n",
      "xin chào python\n"
     ]
    }
   ],
   "source": [
    "# sự khác nhau giữa đọc file=\n",
    "fi = open(\"1.in\",\"r\",encoding=\"utf8\")\n",
    "# s = fi.read() # trả về cho chúng ta 1 chuỗi\n",
    "# print(type(s))\n",
    "# print(s)\n",
    "# p = fi.readline() # trả về từng dòng\n",
    "# print(p.strip())\n",
    "# # print(type(p)) có kiểu dữ liệu là int\n",
    "# p = fi.readline() \n",
    "# print(p)\n",
    "# k = fi.readlines()\n",
    "# print(k) # trả về toàn bộ như kiểu dữ liệu là list\n",
    "for line in fi:\n",
    "    print(line.strip())"
   ]
  },
  {
   "cell_type": "code",
   "execution_count": null,
   "metadata": {},
   "outputs": [],
   "source": []
  },
  {
   "cell_type": "code",
   "execution_count": null,
   "metadata": {},
   "outputs": [],
   "source": []
  }
 ],
 "metadata": {
  "kernelspec": {
   "display_name": "Python 3",
   "language": "python",
   "name": "python3"
  },
  "language_info": {
   "codemirror_mode": {
    "name": "ipython",
    "version": 3
   },
   "file_extension": ".py",
   "mimetype": "text/x-python",
   "name": "python",
   "nbconvert_exporter": "python",
   "pygments_lexer": "ipython3",
   "version": "3.10.9"
  }
 },
 "nbformat": 4,
 "nbformat_minor": 2
}
