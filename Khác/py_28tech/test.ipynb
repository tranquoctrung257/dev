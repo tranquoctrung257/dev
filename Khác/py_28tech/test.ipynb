{
 "cells": [
  {
   "cell_type": "code",
   "execution_count": 7,
   "metadata": {},
   "outputs": [
    {
     "name": "stdout",
     "output_type": "stream",
     "text": [
      "86.00\n",
      "30.00\n"
     ]
    }
   ],
   "source": [
    "# ôn contest 1\n",
    "# câu 3\n",
    "n = int(input())\n",
    "f = (n * 9/5) +32\n",
    "c = (f-32) * 5/9\n",
    "print(\"%.2f\"%(f))\n",
    "print(\"%.2f\"%(c))"
   ]
  },
  {
   "cell_type": "code",
   "execution_count": 12,
   "metadata": {},
   "outputs": [
    {
     "name": "stdout",
     "output_type": "stream",
     "text": [
      "27\n",
      "30\n"
     ]
    }
   ],
   "source": [
    "# câu 7 \n",
    "a,b = map(int,input().split())\n",
    "print((a//b)*b)\n",
    "print((a+b-1)//b*b)"
   ]
  },
  {
   "cell_type": "code",
   "execution_count": 13,
   "metadata": {},
   "outputs": [
    {
     "name": "stdout",
     "output_type": "stream",
     "text": [
      "78\n",
      "38\n",
      "1160\n",
      "2.9\n"
     ]
    }
   ],
   "source": [
    "# câu 8\n",
    "a,b = map(int,input().split())\n",
    "print(a+b)\n",
    "print(a-b)\n",
    "print(a*b)\n",
    "if a == 0 or b == 0:\n",
    "    print(\"INVALID\")\n",
    "else:\n",
    "    print(a/b)"
   ]
  },
  {
   "cell_type": "code",
   "execution_count": 14,
   "metadata": {},
   "outputs": [
    {
     "name": "stdout",
     "output_type": "stream",
     "text": [
      "là năm nhuận\n"
     ]
    }
   ],
   "source": [
    "# câu 9 \n",
    "n = int(input())\n",
    "if n % 400 == 0 or(n % 4 == 0 and n % 100 != 0):\n",
    "    print(\"là năm nhuận\")\n",
    "else:print(\"không phải là năm nhuận\")"
   ]
  },
  {
   "cell_type": "code",
   "execution_count": 15,
   "metadata": {},
   "outputs": [
    {
     "name": "stdout",
     "output_type": "stream",
     "text": [
      "tam giac hơp le\n"
     ]
    }
   ],
   "source": [
    "# câu 10\n",
    "x,y,z = map(int,input().split())\n",
    "if x > 0 and y > 0 and z > 0 and x + y > z and y + z > x and x + z > y:\n",
    "    print(\"tam giac hơp le\")\n",
    "else:print(\"khong phải tam giac hơp le\")"
   ]
  },
  {
   "cell_type": "code",
   "execution_count": 17,
   "metadata": {},
   "outputs": [
    {
     "name": "stdout",
     "output_type": "stream",
     "text": [
      "1 1 1\n"
     ]
    }
   ],
   "source": [
    "# cau 13\n",
    "n = int(input())\n",
    "y = n // 365\n",
    "t = (n%365) // 7\n",
    "d = (y% 7)\n",
    "print(y,t,d)\n"
   ]
  },
  {
   "cell_type": "code",
   "execution_count": null,
   "metadata": {},
   "outputs": [],
   "source": [
    "    "
   ]
  }
 ],
 "metadata": {
  "kernelspec": {
   "display_name": "Python 3",
   "language": "python",
   "name": "python3"
  },
  "language_info": {
   "codemirror_mode": {
    "name": "ipython",
    "version": 3
   },
   "file_extension": ".py",
   "mimetype": "text/x-python",
   "name": "python",
   "nbconvert_exporter": "python",
   "pygments_lexer": "ipython3",
   "version": "3.10.9"
  }
 },
 "nbformat": 4,
 "nbformat_minor": 2
}
