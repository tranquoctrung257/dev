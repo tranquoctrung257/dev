{
 "cells": [
  {
   "cell_type": "code",
   "execution_count": 6,
   "metadata": {},
   "outputs": [
    {
     "name": "stdout",
     "output_type": "stream",
     "text": [
      "4.23\n",
      "4.23\n",
      "4.23\n"
     ]
    }
   ],
   "source": [
    "# contest0\n",
    "\n",
    "# cấu trúc của print()\n",
    "# print(object,sep=seperator, end = end)\n",
    "\n",
    "# đề làm tròn 1 số đằng sau phần thập phân\n",
    "a = 4.23423423423\n",
    "print(\"{:.2f}\".format(a))\n",
    "print(\"%.2f\"%(a))\n",
    "# hạn chế dùng round vì nó sẽ làm tròn \n",
    "# round(số cần làm tròn,làm tròn mấy chữ số)\n",
    "print(round(a,2))\n",
    "\n",
    "# hàm math\n",
    "# math.pow hàm mũ ví dụ pow(3,2) ==> 3**2\n",
    "# math.sqrt là hàm căn bậc 2 nhưng trả về float\n",
    "# math.isqrt là hàm căn bậc 2 nhưng trả về int\n",
    "# math.ceil là hàm làm tròn lên ví dụ 6.2 ==> 7\n",
    "# math.floor là hàm làm tròn xuống ví dụ 6.9 ==> 6\n",
    "# math.factorial là hàm giai thừa ví dụ 10! ==> 1*2*3..*10\n",
    "# hàm math.gcd làm hàm tính ước chung lớn nhất của 2 số\n",
    "# hàm fabs làm hàm trị tuyệt đối của 1 số\n",
    "\n",
    "# các hàm ngoài hàm math nhưng sử dụng như làm math\n",
    "# pow mũ giống hàm math nhưng trả về int\n",
    "# abs hàm này sẽ y trang hàm math.fabs\n",
    "# min hàm lấy sô nhỏ nhất trong 1 list \n",
    "# max hàm lấy sô lớn nhất trong 1 list \n",
    "# sum hàm tính tổng của 1 list 1 tuple ...\n",
    "\n",
    "# lưu ý trong python không có hàm căn bậc 3 nên phải dùng round(pow(1000,1/3))\n",
    "\n",
    "# để lấy số cuối của 1 số thì lấy số đó % 10\n",
    "# ví dụ 12345 % 10 ==> 5\n",
    "# ví dụ 12345 % 100 ==> 45\n",
    "# ví dụ 12345 % 1000 ==> 345\n",
    "\n",
    "# để mất số cuối thì ta lấy số đó // 10\n",
    "# ví dụ 12345 // 10 ==> 1234\n",
    "# ví dụ 12345 // 100 ==> 123\n",
    "# ví dụ 12345 // 1000 ==> 12\n",
    "\n",
    "# để nhập 2 số trên 1 dòng cách nhau bởi dấu cách thì ta làm:\n",
    "# a,b = map(int,input().split())"
   ]
  },
  {
   "cell_type": "code",
   "execution_count": 7,
   "metadata": {},
   "outputs": [],
   "source": [
    "# contesst 1\n",
    "\n",
    "# để đổi nhiệt độ từ độ c sang độ f thì \n",
    "# f = (c * 9/5 ) + 32\n",
    "# hoặc đổi từ f sang c\n",
    "# c = (f - 32) * 5/9\n",
    "\n",
    "# chu vi hình tròn = 2 * pi * r \n",
    "# diện tích hình tròn = pi * r * r\n",
    "\n",
    "# lưu ý bài tập 5 + nếu rảnh làm thêm bài 6 7\n",
    "\n",
    "# năm nhuận là năm chia hết cho 400 hoạc chia hết cho 4 và không chia hết cho 100\n",
    "\n",
    "# 1 tam giác hợp lệ là tam giác có 3 cạnh của nó lón hơn 0 và 2 cạnh còn lại cộng lại lớn hơn cạnh còn lại\n",
    "\n",
    "# chú ý bài 11 học các trường hợp đặc biệt của tam giác\n",
    "\n",
    "# các tháng có 31 ngày là tháng 1,3,5,7,8,10,12\n",
    "# các tháng có 30 ngày là tháng 4,6,9,11\n",
    "# nếu tháng 2 là năm nhuận thì có 29 ngày còn không phải năm nhuận thì sẽ có 28 ngày\n",
    "\n",
    "# chú ý các dạng bài đổi ngày sang giây, ngày sang năm tháng tuần ngày\n",
    "\n"
   ]
  },
  {
   "cell_type": "code",
   "execution_count": 8,
   "metadata": {},
   "outputs": [
    {
     "name": "stdout",
     "output_type": "stream",
     "text": [
      "112\n",
      "p\n",
      "False\n",
      "True\n"
     ]
    }
   ],
   "source": [
    "# chú ý các dạng bài đổi giâu sang giờ,phút,giây, ngày sang năm tuần ngày\n",
    "# ví dụ giờ sang giờ,giây,phút\n",
    "\n",
    "# s = 3740\n",
    "# a = divmod(s,3600)\n",
    "# print(a)\n",
    "# b = divmod(a[-1],60)\n",
    "# print(b)\n",
    "\n",
    "# h = 682\n",
    "# n = h // 365\n",
    "# print(n)\n",
    "# t = h % 365\n",
    "# print(t//7)\n",
    "# print(t%7)\n",
    "\n",
    "# chú ý bài 15,19,20,21,22,23,24,25,28,29,30,31,32,33,34,35\n",
    "\n",
    "# các hàm kí tự cần nhớ\n",
    "# ord chuyển từ chữ cái sang vị trí trong bảng ascii\n",
    "# chr lấy ra kí tự ở vị trí nào đó trong bảng ascii \n",
    "print(ord(\"p\"))\n",
    "print(chr(112))\n",
    "# từ 48 ==> 57 là từ 0 ==> 9\n",
    "# từ 65 đến 90 là từ A đến Z\n",
    "# từ 97 đến 122 là từ a đến z\n",
    "\n",
    "# để kiểm tra 1 kí tự có phải in hoa hoặc in thường hoặc số\n",
    "s = \"H\"\n",
    "c = s.isupper() # kiểm tra có viết hoa hay không\n",
    "v = s.islower() #  kiểm tra có phải viết thường hay không\n",
    "n = s.isdigit() # kiểm tra có phải số hay không\n",
    "print(n)\n",
    "print(c)"
   ]
  },
  {
   "cell_type": "code",
   "execution_count": null,
   "metadata": {},
   "outputs": [],
   "source": [
    "# contest 2\n",
    "\n",
    "# bội số là những số chỉ chia hết cho nó ví dự bội số của 4 là 0,4,5,8,12,16,...\n",
    "\n",
    "# công thức của tổng tự nhiên liên tiếp \n",
    "# 1 + 2 + ... n ==> n*(n+1)/2\n",
    "\n",
    "# chú ý bài 5,8,9,10,11,13,15,16,17,18,19,20\n",
    "\n",
    "# đếm chữ số của n\n",
    "dem = 0\n",
    "n = 12345678\n",
    "while n !=0:\n",
    "    dem+=1\n",
    "    # dem += n%10 (tính tổng chữ số của n)\n",
    "    n//=10\n",
    "print(dem)\n",
    "# đếm chữ số nguyên tố\n",
    "dem = 0\n",
    "while n != 0:\n",
    "    r = n % 10\n",
    "    if r == 2 or r == 3 or r == 5 or r == 7:\n",
    "        dem+=1\n",
    "    n//=10\n",
    "print(dem)\n",
    "\n",
    "\n",
    "\n"
   ]
  },
  {
   "cell_type": "code",
   "execution_count": 10,
   "metadata": {},
   "outputs": [],
   "source": [
    "# contest 3\n"
   ]
  },
  {
   "cell_type": "code",
   "execution_count": null,
   "metadata": {},
   "outputs": [],
   "source": [
    "# cách thuật toán cần nhớ\n",
    "import math\n",
    "\n",
    "\n",
    "# thuật toán kiểm tra số nguyên tố\n",
    "\n",
    "def prime(n):\n",
    "    if n < 2:return False\n",
    "    for i in range(2,math.isqrt(n)+1):\n",
    "        if n % i == 0:\n",
    "            return False\n",
    "    return True\n",
    "\n",
    "\n",
    "        \n"
   ]
  },
  {
   "cell_type": "code",
   "execution_count": null,
   "metadata": {},
   "outputs": [],
   "source": [
    "import math\n",
    "\n",
    "\n",
    "# thuật toán kiểm tra số nguyên tố\n",
    "\n",
    "def prime(n):\n",
    "    if n < 2:return False\n",
    "    for i in range(2,math.isqrt(n)+1):\n",
    "        if n % i == 0:\n",
    "            return False\n",
    "    return True\n",
    "\n",
    "\n",
    "        \n",
    "\n"
   ]
  },
  {
   "cell_type": "code",
   "execution_count": 5,
   "metadata": {},
   "outputs": [
    {
     "name": "stdout",
     "output_type": "stream",
     "text": [
      "12\n"
     ]
    }
   ],
   "source": [
    "import math\n",
    "# thuật toán phân tích thừa số nguyên tố \n",
    "# thừa số nguyên tố chỉ chạy từ 2 đến căn bậc 2 của n\n",
    "def pt(n):\n",
    "    for i in range(2,math.isqrt(n)+1):\n",
    "        if n % i == 0:\n",
    "            # i là số nguyên tố\n",
    "            while n % i == 0:\n",
    "                print(i)\n",
    "                n //= i\n",
    "    # nếu n vẫn lớn hơn 1 nên n là số nguyên tố\n",
    "    if n > 1:\n",
    "        print(n)\n",
    "\n",
    "\n",
    "# Để suy ra số ước của một số từ phân tích thừa số nguyên tố, bạn chỉ cần biết các mũ của các thừa số nguyên tố trong phân tích. Để tính số ước, bạn cộng 1 vào mỗi mũ và sau đó nhân chúng lại với nhau. Ví dụ, nếu số nguyên n có phân tích thừa số nguyên tố là ( p_1^{a_1} * p_2^{a_2} * ... *  p_k^{a_k} ), thì số ước của n là \\( (a_1 + 1) * (a_2 + 1) * ... * (a_k + 1) \\).\n",
    "\n",
    "# Ví dụ, số 28 có phân tích thừa số nguyên tố là \\(2^2 * 7^1\\). Do đó, số ước của 28 là ((2+1) * (1+1) = 3 * 2 = 6\\), có 6 ước.\n",
    "\n",
    "# Điều này là do mỗi ước của 28 có thể được tạo ra bằng cách chọn một số lần lặp từ 0 đến 2 cho thừa số 2, và một số lần lặp từ 0 đến 1 cho thừa số 7, và nhân chúng với nhau.\n",
    "\n",
    "# ví dụ\n",
    "# 1. **Số 12**:\n",
    "#    Phân tích thừa số nguyên tố của 12 là \\(2^2 * 3^1\\).\n",
    "#    Số ước của 12 là ((2+1) * (1+1) = 3 * 2 = 6\\).\n",
    "\n",
    "# . **Số 72**:\n",
    "#    Phân tích thừa số nguyên tố của 72 là \\(2^3 * 3^2\\).\n",
    "#    Số ước của 72 là ((3+1) * (2+1) = 4 * 3 = 12).\n",
    "\n",
    "def pto(n):\n",
    "    lst = 1\n",
    "    for i in range(2,math.isqrt(n)+1):\n",
    "        if n % i == 0:\n",
    "            # i là số nguyên tố\n",
    "            mu = 0\n",
    "            while n % i == 0:\n",
    "                mu +=1\n",
    "                n //= i\n",
    "            lst *= (mu+1)\n",
    "\n",
    "    # nếu n vẫn lớn hơn 1 nên n là số nguyên tố\n",
    "    if n > 1:\n",
    "        lst *= (n)\n",
    "    print(lst)\n",
    "pto(60)\n",
    "\n",
    "\n"
   ]
  },
  {
   "cell_type": "code",
   "execution_count": 3,
   "metadata": {},
   "outputs": [
    {
     "name": "stdout",
     "output_type": "stream",
     "text": [
      "True\n"
     ]
    }
   ],
   "source": [
    "# số chính phưong\n",
    "\n",
    "def cp(n):\n",
    "    can = math.isqrt(n)\n",
    "    return can * can == n\n",
    "print(cp(100))"
   ]
  },
  {
   "cell_type": "code",
   "execution_count": null,
   "metadata": {},
   "outputs": [
    {
     "name": "stdout",
     "output_type": "stream",
     "text": [
      "2\n",
      "2\n",
      "3\n",
      "5\n"
     ]
    }
   ],
   "source": []
  },
  {
   "cell_type": "code",
   "execution_count": null,
   "metadata": {},
   "outputs": [],
   "source": []
  },
  {
   "cell_type": "code",
   "execution_count": null,
   "metadata": {},
   "outputs": [],
   "source": []
  },
  {
   "cell_type": "code",
   "execution_count": null,
   "metadata": {},
   "outputs": [],
   "source": []
  }
 ],
 "metadata": {
  "kernelspec": {
   "display_name": "Python 3",
   "language": "python",
   "name": "python3"
  },
  "language_info": {
   "codemirror_mode": {
    "name": "ipython",
    "version": 3
   },
   "file_extension": ".py",
   "mimetype": "text/x-python",
   "name": "python",
   "nbconvert_exporter": "python",
   "pygments_lexer": "ipython3",
   "version": "3.10.9"
  }
 },
 "nbformat": 4,
 "nbformat_minor": 2
}
