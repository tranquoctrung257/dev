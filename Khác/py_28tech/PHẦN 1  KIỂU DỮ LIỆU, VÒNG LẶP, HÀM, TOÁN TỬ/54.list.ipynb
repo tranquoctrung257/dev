{
 "cells": [
  {
   "cell_type": "code",
   "execution_count": 4,
   "metadata": {},
   "outputs": [
    {
     "name": "stdout",
     "output_type": "stream",
     "text": [
      "<class 'list'>\n",
      "[1, 3, 4, 43.4, 't', False]\n"
     ]
    }
   ],
   "source": [
    "# list\n",
    "# các tính chất của list\n",
    "# - các phần từ trong list là có thứ tự.\n",
    "# - truy cập các phần tử trong list thông qua chỉ số.\n",
    "# - list có thể chứ nhiều kiểu dữ liệu trong nó\n",
    "# - các phần tử trong list có thể thêm xóa chỉnh sửa \n",
    "# 1 tạo list: có nhiều cách để tạo một list, đơn giản nhất là tạo 1 list bằng cách đưa các giá trị của list vào bên trong dấu đong mở ngoặc vuông, các giá trị được phân cách bằng dấu phẩy\n",
    "# ví dụ\n",
    "a = [1,3,4,43.4,\"t\",False]\n",
    "print(type(a))\n",
    "print(a)\n"
   ]
  },
  {
   "cell_type": "code",
   "execution_count": 7,
   "metadata": {},
   "outputs": [
    {
     "name": "stdout",
     "output_type": "stream",
     "text": [
      "['p', 'y', 't', 'h', 'o', 'n']\n"
     ]
    }
   ],
   "source": [
    "# 2 list constructor:bạn có thể sử dụng hàm khởi tạo list() để biến đổi object thành list\n",
    "s = \"python\" # iterable\n",
    "a = list(s)\n",
    "print(a)"
   ]
  },
  {
   "cell_type": "code",
   "execution_count": 9,
   "metadata": {},
   "outputs": [
    {
     "name": "stdout",
     "output_type": "stream",
     "text": [
      "6\n"
     ]
    }
   ],
   "source": [
    "# 3. hàm len: số lượng phần tử trong list\n",
    "a = [1,3,4,43.4,\"t\",False]\n",
    "print(len(a))"
   ]
  },
  {
   "cell_type": "code",
   "execution_count": 16,
   "metadata": {},
   "outputs": [
    {
     "name": "stdout",
     "output_type": "stream",
     "text": [
      "1\n",
      "1 3 4 43.4 t False \n",
      "False t 43.4 4 3 1 \n",
      "1 3 4 43.4 t False "
     ]
    }
   ],
   "source": [
    "# 4. cập phần tử thông qua chỉ số\n",
    "#    0 1 2   3   4    5\n",
    "#   -6-5-4 -3    -2  -1\n",
    "a = [1,3,4,43.4,\"t\",False]\n",
    "print(a[0])\n",
    "\n",
    "# 5 duyệt list\n",
    "for i in range(0,len(a)):\n",
    "    print(a[i],end=\" \")\n",
    "print()\n",
    "for i in range(len(a)-1,-1,-1):\n",
    "    print(a[i],end=\" \")\n",
    "print()\n",
    "for item in a:\n",
    "    print(item,end=\" \")"
   ]
  },
  {
   "cell_type": "code",
   "execution_count": 17,
   "metadata": {},
   "outputs": [
    {
     "name": "stdout",
     "output_type": "stream",
     "text": [
      "[1, 2, 4, 5, 'python', False]\n",
      "[1, 2, 4, 5, 'c++', False]\n"
     ]
    }
   ],
   "source": [
    "# 6. thay đổi giá trị phần tử: bạn có thể thay đổi giá trị của các phần tử của list thông qua chỉ sô tương ứng của nó\n",
    "a = [1,2,4,5,\"python\",False]\n",
    "print(a)\n",
    "a[4] = \"c++\"\n",
    "print(a)"
   ]
  },
  {
   "cell_type": "code",
   "execution_count": 19,
   "metadata": {},
   "outputs": [
    {
     "name": "stdout",
     "output_type": "stream",
     "text": [
      "[1, 2]\n",
      "[1, 2, 10, 'c++']\n",
      "[1, 2, 100, 10, 'c++']\n"
     ]
    }
   ],
   "source": [
    "# 7 thêm 1 phần tử vào trong list:\n",
    "# để thêm một phần tử vào list ta dùng hàm append hàm này sẽ thêm vào cuối list\n",
    "a = [1,2]\n",
    "print(a)\n",
    "a.append(10)\n",
    "a.append(\"c++\")\n",
    "print(a)\n",
    "# nếu bạn muốn thêm một phần tử vào một vị trí bất kì thì bạn sử dụng hàm insert()\n",
    "# insert(vị trí,phần tử)\n",
    "a.insert(2,100)\n",
    "print(a)"
   ]
  },
  {
   "cell_type": "code",
   "execution_count": 27,
   "metadata": {},
   "outputs": [
    {
     "name": "stdout",
     "output_type": "stream",
     "text": [
      "[1, 2, 3, 4, 5, 6]\n",
      "[1, 2, 4, 5]\n",
      "[2, 4, 5]\n",
      "[4, 5]\n",
      "[]\n"
     ]
    }
   ],
   "source": [
    "# 8.xóa phần tử ra khỏi list:\n",
    "# xóa phần tử khỏi list thông qua chỉ số bằng hàm pop(). nếu không truyền vào rõ chỉ số thì nó sẽ xóa phần tử cuối cùng\n",
    "a = [1,2,3,4,5,6]\n",
    "print(a)\n",
    "a.pop(2)\n",
    "a.pop()\n",
    "print(a)\n",
    "# hàm pop sẽ trả về phần tử mà bạn xóa khỏi list, bạn cũng có thể sử dụng làm del nếu không muốn lấy phần tử bị xóa đó\n",
    "del a[0]\n",
    "print(a)\n",
    "# xóa phần tử thông qua giá trị bằng hàm remove(), nếu list có nhiều phần tử bạn cần xóa thì hàm này chỉ xóa đi phần tử đầu tiên\n",
    "a.remove(2)\n",
    "print(a)\n",
    "# xóa mọi phần tử trong list thì dung hàm clear()\n",
    "a.clear()\n",
    "print(a)"
   ]
  },
  {
   "cell_type": "code",
   "execution_count": 30,
   "metadata": {},
   "outputs": [
    {
     "name": "stdout",
     "output_type": "stream",
     "text": [
      "[1, 2, 3, 1, 2, 3]\n",
      "[0, 0, 0, 0, 0, 0, 0, 0, 0, 0, 0, 0, 0, 0, 0, 0, 0, 0, 0, 0, 0, 0, 0, 0, 0, 0, 0, 0, 0, 0, 0, 0, 0, 0, 0, 0, 0, 0, 0, 0, 0, 0, 0, 0, 0, 0, 0, 0, 0, 0, 0, 0, 0, 0, 0, 0, 0, 0, 0, 0, 0, 0, 0, 0, 0, 0, 0, 0, 0, 0, 0, 0, 0, 0, 0, 0, 0, 0, 0, 0, 0, 0, 0, 0, 0, 0, 0, 0, 0, 0, 0, 0, 0, 0, 0, 0, 0, 0, 0, 0]\n"
     ]
    }
   ],
   "source": [
    "# 9.sao chéo list \n",
    "# sao chép lsist có thể giúp bạn nhân bản nội dung của 1 list ban đầu\n",
    "a = [1,2,3]\n",
    "b = a*2\n",
    "print(b)\n",
    "\n",
    "# tạo 1 list có chứa 100 phần tử là số 0\n",
    "a = [0] * 100\n",
    "print(a)"
   ]
  },
  {
   "cell_type": "code",
   "execution_count": 32,
   "metadata": {},
   "outputs": [
    {
     "name": "stdout",
     "output_type": "stream",
     "text": [
      "yes\n"
     ]
    }
   ],
   "source": [
    "# 10. tìm kiếm phần tử trong list:\n",
    "# để tìm kiếm phần tử trong list bạn có thể dùng toán tử in hoặc thuật toán tìn kiếm tuyến tính\n",
    "a = [1,2,3,4,5,6]\n",
    "if 4 in a:\n",
    "    print(\"yes\")"
   ]
  },
  {
   "cell_type": "code",
   "execution_count": 34,
   "metadata": {},
   "outputs": [
    {
     "name": "stdout",
     "output_type": "stream",
     "text": [
      "[1, 2, 3, 4, 5, 6]\n",
      "[1, 2, 3, 4, 5, 6, 4, 5, 6]\n"
     ]
    }
   ],
   "source": [
    "# 11.combine list: bạn có thể sử dụng hàm extend() để thêm các phần tử của 1 list kahcs vào list hiện tại hoặc sử dụng toán tử +\n",
    "a = [1,2,3]\n",
    "b = [4,5,6]\n",
    "a.extend(b)\n",
    "print(a)\n",
    "a+=b\n",
    "print(a)"
   ]
  },
  {
   "cell_type": "code",
   "execution_count": 37,
   "metadata": {},
   "outputs": [
    {
     "name": "stdout",
     "output_type": "stream",
     "text": [
      "[4, 5, 63, 1, 3, 5]\n",
      "[1, 3, 4, 5, 5, 63]\n"
     ]
    }
   ],
   "source": [
    "# 12. các phương thức của list :\n",
    "# hàm copy(): trả về list mới có nội dung tương tự như list ban đầu nhưng phải là list ban đầu\n",
    "# hàm count(): trả về số lần xuất hiện của một phần tử trong list \n",
    "# hàm index(): trả về số đầu tien của một phần tử trong list\n",
    "# hàm reverse(): lật ngược một list\n",
    "# hàm sort() sắp xếp theo thứ tự tăng dần\n",
    "# hàm sorted() sắp xếp mảng đó nhưng vẫn giữ nguyên mảng đó và trả về một mảng khác đã sắp xếp\n",
    "a = [4,5,63,1,3,5]\n",
    "b = sorted(a)\n",
    "print(a)\n",
    "print(b)"
   ]
  },
  {
   "cell_type": "code",
   "execution_count": null,
   "metadata": {},
   "outputs": [],
   "source": []
  }
 ],
 "metadata": {
  "kernelspec": {
   "display_name": "Python 3",
   "language": "python",
   "name": "python3"
  },
  "language_info": {
   "codemirror_mode": {
    "name": "ipython",
    "version": 3
   },
   "file_extension": ".py",
   "mimetype": "text/x-python",
   "name": "python",
   "nbconvert_exporter": "python",
   "pygments_lexer": "ipython3",
   "version": "3.10.9"
  }
 },
 "nbformat": 4,
 "nbformat_minor": 2
}
