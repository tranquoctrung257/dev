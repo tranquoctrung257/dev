{
 "cells": [
  {
   "cell_type": "code",
   "execution_count": null,
   "metadata": {},
   "outputs": [],
   "source": [
    "# độ phức tạp về thuật toán\n",
    "# - độ phức tạp về thời gian là thời gian mà thuật toán của bạn cần để thực thi, nó là một hàm input,tức là dựa vào đầu vào ta sẽ tính toán số số lượng thao tác mà thuật toán cần thực thi từ đó tính ra được thời gian thực thi của thuật toán \n",
    "# - độ phức tạp về không gian\n"
   ]
  }
 ],
 "metadata": {
  "language_info": {
   "name": "python"
  }
 },
 "nbformat": 4,
 "nbformat_minor": 2
}
