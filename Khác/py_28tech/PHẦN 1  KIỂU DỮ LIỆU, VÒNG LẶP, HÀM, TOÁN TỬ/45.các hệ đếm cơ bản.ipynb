{
 "cells": [
  {
   "cell_type": "code",
   "execution_count": 1,
   "metadata": {},
   "outputs": [],
   "source": [
    "## các hệ đếm cơ bản"
   ]
  },
  {
   "cell_type": "code",
   "execution_count": 2,
   "metadata": {},
   "outputs": [
    {
     "data": {
      "text/plain": [
       "'\\nbit     | 1 | 0 | 0 | 1 | 0 | 1 |  \\nhàng    | 5 | 4 | 3 | 2 | 2 | 0 |\\ngiá trị |2^5|2^4|2^3|2^2|2^1|2^0|\\n'"
      ]
     },
     "execution_count": 2,
     "metadata": {},
     "output_type": "execute_result"
    }
   ],
   "source": [
    "# 1.hệ nhị phân\n",
    "# - hệ nhị phân được coi là ngôn ngữ của máy tính,khác với chúng ta sử dụng hệ thập phân thì máy tính sử dụng hệ nhị phân. các giá trị, câu lệnh,.. đều được chuyển thành các bit 0 1\n",
    "# - với số nhị phân k bit, bạn có thể biểu diễn được 2^k giá trị khác nhau.\n",
    "# - việc nắm vững hệ nhị phân là một kĩ năng cơ bản bắt buộc phải có của 1 lập trình viên.\n",
    "# để chuyển từ hệ thập phân sang hệ nhị phân.\n",
    "# - để chuyển từ hệ 10 sang hệ 2 thì ta tiến hành chia số đó cho 2 và ghi lại số dư trong quá trình chia. khi thương của quá trình bằng 0, ta viết ngược lại các giá trị dư sẽ được dạng biểu diễn nhị phân.\n",
    "\n",
    "# ví dụ 37\n",
    "\n",
    "\"\"\"\n",
    "37|2  1\n",
    "18|2  0\n",
    "9|2   1\n",
    "4|2   0\n",
    "2|2   0\n",
    "1|2   1\n",
    "0\n",
    "\n",
    "\"\"\"\n",
    "# ==> 100101\n",
    "# khi thương bằng 0 ta viết ngược lại các số dư từ bước 6 tới bước 1 ta được biểu diễn nhị phân của số 37(10):100101(2)\n",
    "\n",
    "# chuyển hệ nhị phân sang hệ thập phân.\n",
    "# trong hệ thập phân ta có: 1234 = 1 * 10^3 + 2 * 10^2 + 3 * 10^1 + 4 * 10^0, tương tự như vật đối với hệ nhị phân nhưng khác cơ số, ta thay cơ số thành 2.xét từ bit cuối cùng tương ứng với 2^0, bit thứ 2 tương ứng với 2^1... ta nhận bit ở vị trí k với 2^k, vị trí bit được đánh số từ 0 tính từ bên phải.\n",
    "# ví dụ n = 37\n",
    "\"\"\"\n",
    "bit     | 1 | 0 | 0 | 1 | 0 | 1 |  \n",
    "hàng    | 5 | 4 | 3 | 2 | 2 | 0 |\n",
    "giá trị |2^5|2^4|2^3|2^2|2^1|2^0|\n",
    "\"\"\" \n",
    "# 100101 = 1 * 2^0 + 0 * 2^1 + 1 * 2^2 + 0 * 2^3 + 0 * 2^4 + 1 * 2^5 = 1 + 0 + 4 + 0 + 0 + 32 = 37 "
   ]
  },
  {
   "cell_type": "code",
   "execution_count": null,
   "metadata": {},
   "outputs": [],
   "source": [
    "# 2. hệ 16\n",
    "# 3. hệ 8\n",
    "# lưu trong slide"
   ]
  }
 ],
 "metadata": {
  "kernelspec": {
   "display_name": "Python 3",
   "language": "python",
   "name": "python3"
  },
  "language_info": {
   "codemirror_mode": {
    "name": "ipython",
    "version": 3
   },
   "file_extension": ".py",
   "mimetype": "text/x-python",
   "name": "python",
   "nbconvert_exporter": "python",
   "pygments_lexer": "ipython3",
   "version": "3.10.9"
  }
 },
 "nbformat": 4,
 "nbformat_minor": 2
}
