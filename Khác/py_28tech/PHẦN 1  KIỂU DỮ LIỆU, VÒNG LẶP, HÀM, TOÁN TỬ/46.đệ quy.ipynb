{
 "cells": [
  {
   "cell_type": "code",
   "execution_count": 1,
   "metadata": {},
   "outputs": [],
   "source": [
    "# 1.cấu trúc dự liệu ngăn sếp:\n",
    "# ngăn sếp (stack) là một cấu trúc dữ liệu có quạn hệ mật thiết với cơ chế hoạt động của đệ quy. để hiểu được cách hàm đệ quy hoạt động ta cần nắm được cách hoạt động của cấu trúc dữ liệu ngăn xếp\n",
    "# ngăn xếp là một cấu trúc dữ liệu hỗ trợ hai thao tác push và pop trong đó push giúp thêm 1 phân tử vào đỉnh ngăn xếp, pop giúp xóa 1 phần tử khỏi đỉnh ngăn xếp. cả 2 thao tác này đều được thực hiện ở đỉnh ngăn xếp\n",
    "# ngăn xếp hoạt dộng theo nguyên tắc viết tắt là LIFO (last in First Out) nghĩa là vào cuối thì ra đầu. các phân tử vào cuối cùng thì ra đầu tiên\n",
    "# trong chương trình tồn tại một bộ nhớ là bộ nhớ ngăn xếp, cách hoạt động của bộ nhớ này tương tự như cách hoạt động của cấu trúc dữ liệu ngăn xếp.\n",
    "# 2.stackframe là gì\n",
    "# những thành phần của stack frame có thể kể đến như biến cục bộ, đối số địa chỉ trả về của một chương trình con.\n",
    "# mỗi khi một lời gọi hàm được thực hiện, stack frame chứa thông tin của hàm đó được đẩy vào bộ nhớ stack và khi hàm đó kết thúc thì stack frame này được loại bỏ khỏi bộ nhớ stack."
   ]
  },
  {
   "cell_type": "code",
   "execution_count": 2,
   "metadata": {},
   "outputs": [
    {
     "name": "stdout",
     "output_type": "stream",
     "text": [
      "A\n",
      "B\n",
      "C\n"
     ]
    }
   ],
   "source": [
    "# ví dụ\n",
    "def A():print(\"A\")\n",
    "def B():\n",
    "    A()\n",
    "    print(\"B\")\n",
    "def C():\n",
    "    B()\n",
    "    print(\"C\")\n",
    "C()"
   ]
  },
  {
   "cell_type": "code",
   "execution_count": 1,
   "metadata": {},
   "outputs": [
    {
     "name": "stdout",
     "output_type": "stream",
     "text": [
      "10\n"
     ]
    }
   ],
   "source": [
    "# 3 hàm đệ quy (hàm đệ quy là một hàm gọi lại chính nó)\n",
    "\n",
    "# để tìm đệ quy thì cần tìm\n",
    "# - bài toán con nhỏ nhất (điểm dừng của đệ quy)\n",
    "# - công thức truy hồi\n",
    "\n",
    "# - đệ quy dựa trên công thức toán học gọi là công thức truy hồi và một bài toán con nhỏ nhất. khi viết hàm đệ quy ta cần xác định được bài toán con nhỏ nhất để làm điểm dừng cho hàm đệ quy và công thức truy hồi để tìm lời giải của bài toán lớn nhất thông qua đán án của bài toán nhỏ hơn.\n",
    "# - nếu đệ quy không có điểm dừng khi số lượng hàm đệ quy gọi đủ lớn sẽ làm bộ nhớ stack tràn\n",
    "\"\"\"\n",
    "def recurse():\n",
    "    ...\n",
    "    recurse()\n",
    "recurse()\n",
    "\"\"\"\n",
    "\n",
    "# ví dụ\n",
    "# def A():\n",
    "#     print(\"A\")\n",
    "#     A() # A đệ duy\n",
    "# if __name__ == \"__main__\":\n",
    "#     A()\n",
    "\n"
   ]
  },
  {
   "cell_type": "code",
   "execution_count": 2,
   "metadata": {},
   "outputs": [
    {
     "name": "stdout",
     "output_type": "stream",
     "text": [
      "10\n"
     ]
    }
   ],
   "source": [
    "# tính tổng s(n) 1 + 2 + 3 + ... + n:\n",
    "# bài toán con nhỏ nhất s(0) = 0 khi n = 0\n",
    "# công thức truy hồi s(n) = n + s(n-1) khi n >= 1\n",
    "\n",
    "def sum(n):\n",
    "    if n == 0:\n",
    "        return 0\n",
    "    else:\n",
    "        return n + sum(n-1) # đệ quy\n",
    "    \n",
    "print(sum(4))"
   ]
  },
  {
   "cell_type": "code",
   "execution_count": null,
   "metadata": {},
   "outputs": [],
   "source": [
    "# tính giai thừa F(n) = 1.2.3...n:\n",
    "# bài toán con nhỏ nhất F(0) = 1 khi n = 0\n",
    "# công thức truy hồi F(n) = n * (F(n-1)) khi n >= 1\n",
    "\n",
    "def Fac(n):\n",
    "    if n == 0:\n",
    "        return 1\n",
    "    else:\n",
    "        return n * Fac(n-1)\n",
    "print(Fac(5))"
   ]
  },
  {
   "cell_type": "code",
   "execution_count": 3,
   "metadata": {},
   "outputs": [
    {
     "name": "stdout",
     "output_type": "stream",
     "text": [
      "1\n",
      "0\n",
      "1\n",
      "1\n",
      "1\n",
      "0\n",
      "2\n",
      "1\n",
      "0\n",
      "1\n",
      "1\n",
      "0\n",
      "1\n",
      "1\n",
      "1\n",
      "0\n",
      "1\n",
      "0\n",
      "3\n",
      "1\n",
      "0\n",
      "1\n",
      "1\n",
      "1\n",
      "0\n",
      "2\n",
      "1\n",
      "0\n",
      "1\n",
      "1\n",
      "1\n",
      "0\n",
      "2\n",
      "1\n",
      "0\n",
      "1\n",
      "1\n",
      "0\n",
      "1\n",
      "1\n",
      "1\n",
      "0\n",
      "1\n",
      "0\n",
      "1\n",
      "0\n",
      "1\n",
      "1\n",
      "1\n",
      "0\n",
      "5\n",
      "1\n",
      "0\n",
      "1\n",
      "1\n",
      "1\n",
      "0\n",
      "2\n",
      "1\n",
      "0\n",
      "1\n",
      "1\n",
      "0\n",
      "1\n",
      "1\n",
      "1\n",
      "0\n",
      "1\n",
      "0\n",
      "3\n",
      "1\n",
      "0\n",
      "1\n",
      "1\n",
      "1\n",
      "0\n",
      "2\n",
      "1\n",
      "0\n",
      "1\n",
      "1\n",
      "0\n",
      "1\n",
      "1\n",
      "1\n",
      "0\n",
      "1\n",
      "0\n",
      "3\n",
      "1\n",
      "0\n",
      "1\n",
      "1\n",
      "1\n",
      "0\n",
      "2\n",
      "1\n",
      "0\n",
      "1\n",
      "1\n",
      "1\n",
      "0\n",
      "2\n",
      "1\n",
      "0\n",
      "1\n",
      "1\n",
      "0\n",
      "1\n",
      "1\n",
      "1\n",
      "0\n",
      "1\n",
      "0\n",
      "1\n",
      "0\n",
      "1\n",
      "1\n",
      "1\n",
      "0\n",
      "1\n",
      "0\n",
      "1\n",
      "1\n",
      "1\n",
      "0\n",
      "2\n",
      "1\n",
      "0\n",
      "1\n",
      "1\n",
      "0\n",
      "1\n",
      "1\n",
      "1\n",
      "0\n",
      "1\n",
      "0\n",
      "8\n"
     ]
    }
   ],
   "source": [
    "# tính số fibonacci\n",
    "# bài toán con nhỏ nhất: f(0) = 0,f(1)= 1\n",
    "# công thức truy hồi f(n) == (fn-1) + (fn-2) khí >= 2\n",
    "# code này chạy rất chậm, độ phức tạp là o(1.618^n)\n",
    "def fibo(n):\n",
    "    if n == 0 or n == 1:return n\n",
    "    return fibo(n-1) + fibo(n-2)\n",
    "print((fibo(6)))"
   ]
  },
  {
   "cell_type": "code",
   "execution_count": 5,
   "metadata": {},
   "outputs": [
    {
     "name": "stdout",
     "output_type": "stream",
     "text": [
      "27\n"
     ]
    }
   ],
   "source": [
    "# tính tổng chữ số của số nguyên dương n: SumDigit(n):\n",
    "# bài toán con nhỏ nhất: SumDigit(n) = n nếu n < 10\n",
    "# công thức truy hồi:\n",
    "# SumDigit(n) = n % 10 + SumDigit(n//10) nếu n >= 10\n",
    "def\tSumDigit(n):\n",
    "\tif n < 10:\n",
    "\t\treturn n\n",
    "\treturn n % 10 + SumDigit(n//10)\n",
    "print(SumDigit(189324))\n",
    "    "
   ]
  },
  {
   "cell_type": "code",
   "execution_count": 7,
   "metadata": {},
   "outputs": [
    {
     "name": "stdout",
     "output_type": "stream",
     "text": [
      "45\n"
     ]
    }
   ],
   "source": [
    "# tính tổ hợp k của n\n",
    "# bài toán con nhỏ nhất C(n,k) = 1 nếu k = 0 hoặc n = k\n",
    "# công thức truy hồi (công thức pascal):\n",
    "# C(n,k) = C( n - 1,K - 1) +C(n - 1, K)\n",
    "def nCk(n,k):\n",
    "    if k == 0 or n == k:\n",
    "        return 1\n",
    "    return nCk(n-1,k-1) + nCk(n-1,k)\n",
    "print(nCk(10,8))"
   ]
  },
  {
   "cell_type": "code",
   "execution_count": 8,
   "metadata": {},
   "outputs": [],
   "source": [
    "# tìm ước chung lớn nhất bằng đệ quy \n",
    "# bài toán con nhỏ nhất gcd(a,b) = a khi b = 0\n",
    "# công thức truy hồi: gcd(a,b) = gcd(b,a%b)\n",
    "def gcd(a,b):\n",
    "    if b == 0:\n",
    "        return a\n",
    "    return gcd(b,a%b)"
   ]
  },
  {
   "cell_type": "code",
   "execution_count": 9,
   "metadata": {},
   "outputs": [
    {
     "name": "stdout",
     "output_type": "stream",
     "text": [
      "1 0 0 1 0 1 "
     ]
    }
   ],
   "source": [
    "# chuyển đổi số thập phân sang nhị phân bằng đệ quy\n",
    "def decTobin(n):\n",
    "    if n < 2:\n",
    "        print(n,end=\" \")\n",
    "        return\n",
    "    decTobin(n//2)\n",
    "    print(n%2,end=\" \")\n",
    "decTobin(37)"
   ]
  },
  {
   "cell_type": "code",
   "execution_count": null,
   "metadata": {},
   "outputs": [],
   "source": []
  }
 ],
 "metadata": {
  "kernelspec": {
   "display_name": "Python 3",
   "language": "python",
   "name": "python3"
  },
  "language_info": {
   "codemirror_mode": {
    "name": "ipython",
    "version": 3
   },
   "file_extension": ".py",
   "mimetype": "text/x-python",
   "name": "python",
   "nbconvert_exporter": "python",
   "pygments_lexer": "ipython3",
   "version": "3.10.9"
  }
 },
 "nbformat": 4,
 "nbformat_minor": 2
}
